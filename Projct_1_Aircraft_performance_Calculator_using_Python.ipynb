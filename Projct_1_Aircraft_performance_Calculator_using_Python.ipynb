{
  "nbformat": 4,
  "nbformat_minor": 0,
  "metadata": {
    "colab": {
      "provenance": [],
      "toc_visible": true
    },
    "kernelspec": {
      "name": "python3",
      "display_name": "Python 3"
    },
    "language_info": {
      "name": "python"
    }
  },
  "cells": [
    {
      "cell_type": "markdown",
      "source": [
        "# Project 1: Aircraft Perfromacne Calculator using Python 🛩️\n",
        "\n",
        "---\n",
        "\n"
      ],
      "metadata": {
        "id": "1W1UL-h0LZd_"
      }
    },
    {
      "cell_type": "markdown",
      "source": [
        "You are an up and coming engineering intern at \"SkyWing Aviators\" where you are tasked with writing a computer program that meets the following standards:\n",
        "\n",
        "\n",
        "Objective:\n",
        "\n",
        "1)Complete all the code required for each of the pre-defined performance\n",
        "\n",
        "2)calculations functions\n",
        "\n",
        "3)Print all the performance calculations using the pretty_print function\n",
        "\n",
        "4)Save all the contents into a text file entitled aircraft_performance_analysis\n",
        "Utilize the hard-coded variable values below"
      ],
      "metadata": {
        "id": "LZqFLjz3OPo-"
      }
    },
    {
      "cell_type": "markdown",
      "source": [
        "***Important Terms for calculation***(RETCMLDW)\n",
        "\n",
        "1.Range :max distance travelled by aircraft without refuling\n",
        "\n",
        "         Range(miles)=Range(hours)*true air speed\n",
        "\n",
        "                      Range(hours)=Fuel Capacity/Fuel Consumption Rate\n",
        "                      \n",
        "\n",
        "2.Endurance:Amount of time aircrft can remain in sky with given amount of fuel\n",
        "\n",
        "            Endurance(hours)=Fuel Capacity/Fuel Consumption Rate\n",
        "\n",
        "\n",
        "3.Total Weight=Payload + Fuel Weight\n",
        "\n",
        "\n",
        "4.Center of Gravity:Considers sum of Weight into it's distance from CG(W1d1+W2d2+....)\n",
        "\n",
        "        \n",
        "5.Moment=Weight of each component * Distance from reference point\n",
        "\n",
        "\n",
        "\n",
        "\n",
        "\n"
      ],
      "metadata": {
        "id": "nLP0TlRjLilS"
      }
    },
    {
      "cell_type": "markdown",
      "source": [
        "Expected Output for Print Statements\n",
        "\n",
        "Performance Calculations:\n",
        "\n",
        "Range: 3000.0 miles\n",
        "\n",
        "Endurance: 20.0 hours\n",
        "\n",
        "Total Weight: 11000 pounds\n",
        "\n",
        "Center of Gravity Position: 1.1363636363636365 feet\n",
        "\n",
        "Lift: 183750.0 Newtons\n",
        "\n",
        "Drag: 2450.0 Newtons\n",
        "\n",
        "Weight: 49050.0 Newtons\n",
        "\n",
        "Acceleration: -9.1 m/s^2\n",
        "\n",
        "Velocity: -41.0 m/s\n",
        "\n",
        "Distance: -410.0 meters"
      ],
      "metadata": {
        "id": "MYLaBfgxPBIC"
      }
    },
    {
      "cell_type": "code",
      "execution_count": null,
      "metadata": {
        "id": "9-HkO06xlQab"
      },
      "outputs": [],
      "source": [
        "# Pre-defined variable values\n",
        "fuel_capacity = 1000  # gallons\n",
        "fuel_consumption_rate = 50  # gallons per hour\n",
        "true_air_speed = 150  # knots\n",
        "payload = 5000  # pounds\n",
        "fuel_weight = 6000  # pounds\n",
        "moment_list = [10000, 2500]  # pound-feet\n",
        "total_weight = 1500  # pounds\n",
        "cl = 1.5  # lift coefficient\n",
        "rho = 1.225  # air density in kg/m^3\n",
        "v = 100  # velocity in m/s\n",
        "s = 20  # wing area in m^2\n",
        "cd = 0.02  # drag coefficient\n",
        "mass = 5000  # mass in kg\n",
        "g = 9.81  # acceleration due to gravity in m/s^2\n",
        "thrust = 6000  # thrust in N\n",
        "drag = 5000  # drag in N\n",
        "velocity = 50  # initial velocity in m/s\n",
        "acceleration = 2  # acceleration in m/s^2\n",
        "time = 10  # time in seconds"
      ]
    },
    {
      "cell_type": "code",
      "source": [
        "# Helper function to pretty print performance data\n",
        "def pretty_print(range_, endurance, total_weight, cg_position, lift, drag, weight, acceleration, velocity, distance):\n",
        "    print(\"Performance Calculations:\")\n",
        "    print(\"Range: {} miles\".format(range_))\n",
        "    print(\"Endurance: {} hours\".format(endurance))\n",
        "    print(\"Total Weight: {} pounds\".format(total_weight))\n",
        "    print(\"Center of Gravity Position: {} feet\".format(cg_position))\n",
        "    print(\"Lift: {} Newtons\".format(lift))\n",
        "    print(\"Drag: {} Newtons\".format(drag))\n",
        "    print(\"Weight: {} Newtons\".format(weight))\n",
        "    print(\"Acceleration: {} m/s^2\".format(acceleration))\n",
        "    print(\"Velocity: {} m/s\".format(velocity))\n",
        "    print(\"Distance: {} meters\".format(distance))"
      ],
      "metadata": {
        "id": "Xd48GUyTPT7g"
      },
      "execution_count": null,
      "outputs": []
    },
    {
      "cell_type": "markdown",
      "source": [
        "# Step 1: Write all the Performance Calculation Code"
      ],
      "metadata": {
        "id": "KjgC9jA2Pb_5"
      }
    },
    {
      "cell_type": "code",
      "source": [
        "def calculate_range(fuel_capacity, fuel_consumption_rate, true_air_speed):\n",
        "    range_in_hours = fuel_capacity / fuel_consumption_rate\n",
        "    range_in_miles = range_in_hours * true_air_speed\n",
        "    return range_in_miles\n",
        "\n",
        "def calculate_endurance(fuel_capacity, fuel_consumption_rate):\n",
        "   endurance_in_hours = fuel_capacity / fuel_consumption_rate\n",
        "   return endurance_in_hours\n",
        "\n",
        "def calculate_total_weight(payload, fuel_weight):\n",
        "    return  payload + fuel_weight\n",
        "def calculate_cg_position(moment_list,total_weight):\n",
        "    total_moment=sum(moment_list)\n",
        "    cg_position=total_moment/total_weight\n",
        "    return cg_position\n",
        "def calculate_moment(weight,arm):\n",
        "    return weight*arm\n",
        "def calculate_lift(cl,rho,v,s):\n",
        "    return 0.5*cl*rho*v**2*s\n",
        "def calculate_drag(cd,rho,v,s):\n",
        "    return 0.5*cd*rho*v**2*s\n",
        "def calculate_weight(mass,g):\n",
        "    return mass*g\n",
        "def calculate_acceleration(thurst,drag,weight,mass):\n",
        "    return(thurst-drag-weight)/mass\n",
        "def calculate_velocity(velocity,acceleration,time):\n",
        "    return velocity+acceleration*time\n",
        "def calculate_distance(velocity,time):\n",
        "    return velocity*time\n"
      ],
      "metadata": {
        "id": "RlDuVONjPbjh"
      },
      "execution_count": null,
      "outputs": []
    },
    {
      "cell_type": "markdown",
      "source": [
        "# Step 2: Pretty Print All Values"
      ],
      "metadata": {
        "id": "zB1lyg-xfvhS"
      }
    },
    {
      "cell_type": "code",
      "source": [
        "range=calculate_range(fuel_capacity, fuel_consumption_rate, true_air_speed)\n",
        "endurance=calculate_endurance(fuel_capacity, fuel_consumption_rate)\n",
        "total_weight=calculate_total_weight(payload, fuel_weight)\n",
        "cg_position=calculate_cg_position(moment_list,total_weight)\n",
        "lift=calculate_lift(cl,rho,v,s)\n",
        "drag=calculate_drag(cd,rho,v,s)\n",
        "weight=calculate_weight(mass,g)\n",
        "acceleration=calculate_acceleration(thrust,drag,weight,mass)\n",
        "velocity=calculate_velocity(velocity,acceleration,time)\n",
        "distance=calculate_distance(velocity,time)\n",
        "pretty_print(range,endurance,total_weight,cg_position,lift,drag,weight,acceleration,velocity,distance)"
      ],
      "metadata": {
        "colab": {
          "base_uri": "https://localhost:8080/"
        },
        "id": "hm6cJ7lFfyvU",
        "outputId": "abd0eccf-1105-4620-f20d-1a4f4b2ee81a"
      },
      "execution_count": null,
      "outputs": [
        {
          "output_type": "stream",
          "name": "stdout",
          "text": [
            "Performance Calculations:\n",
            "Range: 3000.0 miles\n",
            "Endurance: 20.0 hours\n",
            "Total Weight: 11000 pounds\n",
            "Center of Gravity Position: 1.1363636363636365 feet\n",
            "Lift: 183750.0 Newtons\n",
            "Drag: 2450.0 Newtons\n",
            "Weight: 49050.0 Newtons\n",
            "Acceleration: -9.1 m/s^2\n",
            "Velocity: -132.0 m/s\n",
            "Distance: -1320.0 meters\n"
          ]
        }
      ]
    }
  ]
}